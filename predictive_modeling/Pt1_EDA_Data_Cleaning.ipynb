{
 "cells": [
  {
   "cell_type": "code",
   "execution_count": 1,
   "metadata": {},
   "outputs": [
    {
     "ename": "ImportError",
     "evalue": "cannot import name 'APPRAISAL_COLS' from 'helpers.consts' (/home/neil/Desktop/tags_bootrappers_showcase_2023/predictive_modeling/helpers/consts.py)",
     "output_type": "error",
     "traceback": [
      "\u001b[0;31m---------------------------------------------------------------------------\u001b[0m",
      "\u001b[0;31mImportError\u001b[0m                               Traceback (most recent call last)",
      "\u001b[1;32m/home/neil/Desktop/tags_bootrappers_showcase_2023/predictive_modeling/Pt1_EDA_Data_Cleaning.ipynb Cell 1\u001b[0m in \u001b[0;36m<cell line: 5>\u001b[0;34m()\u001b[0m\n\u001b[1;32m      <a href='vscode-notebook-cell:/home/neil/Desktop/tags_bootrappers_showcase_2023/predictive_modeling/Pt1_EDA_Data_Cleaning.ipynb#W0sZmlsZQ%3D%3D?line=2'>3</a>\u001b[0m \u001b[39mfrom\u001b[39;00m \u001b[39mpathlib\u001b[39;00m \u001b[39mimport\u001b[39;00m Path\n\u001b[1;32m      <a href='vscode-notebook-cell:/home/neil/Desktop/tags_bootrappers_showcase_2023/predictive_modeling/Pt1_EDA_Data_Cleaning.ipynb#W0sZmlsZQ%3D%3D?line=3'>4</a>\u001b[0m \u001b[39mfrom\u001b[39;00m \u001b[39mhelpers\u001b[39;00m\u001b[39m.\u001b[39;00m\u001b[39mdata_loading\u001b[39;00m \u001b[39mimport\u001b[39;00m load_carmax_data\n\u001b[0;32m----> <a href='vscode-notebook-cell:/home/neil/Desktop/tags_bootrappers_showcase_2023/predictive_modeling/Pt1_EDA_Data_Cleaning.ipynb#W0sZmlsZQ%3D%3D?line=4'>5</a>\u001b[0m \u001b[39mfrom\u001b[39;00m \u001b[39mhelpers\u001b[39;00m\u001b[39m.\u001b[39;00m\u001b[39mconsts\u001b[39;00m \u001b[39mimport\u001b[39;00m APPRAISAL_COLS, PURCHASE_COLS\n\u001b[1;32m      <a href='vscode-notebook-cell:/home/neil/Desktop/tags_bootrappers_showcase_2023/predictive_modeling/Pt1_EDA_Data_Cleaning.ipynb#W0sZmlsZQ%3D%3D?line=5'>6</a>\u001b[0m \u001b[39mimport\u001b[39;00m \u001b[39mseaborn\u001b[39;00m \u001b[39mas\u001b[39;00m \u001b[39msns\u001b[39;00m\n\u001b[1;32m      <a href='vscode-notebook-cell:/home/neil/Desktop/tags_bootrappers_showcase_2023/predictive_modeling/Pt1_EDA_Data_Cleaning.ipynb#W0sZmlsZQ%3D%3D?line=6'>7</a>\u001b[0m \u001b[39mimport\u001b[39;00m \u001b[39mmatplotlib\u001b[39;00m\u001b[39m.\u001b[39;00m\u001b[39mpyplot\u001b[39;00m \u001b[39mas\u001b[39;00m \u001b[39mplt\u001b[39;00m\n",
      "\u001b[0;31mImportError\u001b[0m: cannot import name 'APPRAISAL_COLS' from 'helpers.consts' (/home/neil/Desktop/tags_bootrappers_showcase_2023/predictive_modeling/helpers/consts.py)"
     ]
    }
   ],
   "source": [
    "import pandas as pd\n",
    "import os\n",
    "from pathlib import Path\n",
    "from helpers.data_loading import load_carmax_data\n",
    "from helpers.consts import APPRAISAL_COLS, PURCHASE_COLS\n",
    "import seaborn as sns\n",
    "import matplotlib.pyplot as plt\n",
    "\n",
    "CWD = os.getcwd()\n",
    "CWD = Path(CWD)\n",
    "DATA = CWD.parents[0] / \"data\""
   ]
  },
  {
   "cell_type": "code",
   "execution_count": null,
   "metadata": {},
   "outputs": [],
   "source": [
    "kmax_data = load_carmax_data(DATA/\"ShowcaseDataWinter2023.csv\")\n",
    "kmax_data.head()"
   ]
  },
  {
   "attachments": {},
   "cell_type": "markdown",
   "metadata": {},
   "source": [
    "## Check missing values"
   ]
  },
  {
   "cell_type": "code",
   "execution_count": null,
   "metadata": {},
   "outputs": [],
   "source": [
    "kmax_data.isna().sum()"
   ]
  },
  {
   "attachments": {},
   "cell_type": "markdown",
   "metadata": {},
   "source": [
    "#### Appraisal NAs"
   ]
  },
  {
   "cell_type": "code",
   "execution_count": null,
   "metadata": {},
   "outputs": [],
   "source": [
    "kmax_data[APPRAISAL_COLS ].isna().any(axis=1).sum()"
   ]
  },
  {
   "attachments": {},
   "cell_type": "markdown",
   "metadata": {},
   "source": [
    "#### Purchase NAs"
   ]
  },
  {
   "cell_type": "code",
   "execution_count": null,
   "metadata": {},
   "outputs": [],
   "source": [
    "kmax_data[PURCHASE_COLS].isna().any(axis=1).sum()"
   ]
  },
  {
   "attachments": {},
   "cell_type": "markdown",
   "metadata": {},
   "source": [
    "### How unique/accurate is the make/model info?"
   ]
  },
  {
   "cell_type": "code",
   "execution_count": null,
   "metadata": {},
   "outputs": [],
   "source": [
    "app_model_bodies = kmax_data.groupby('model_appraisal')['body_appraisal'].nunique()\n",
    "pur_model_bodies = kmax_data.groupby('model')['body'].nunique()\n",
    "multi_body_app_models = app_model_bodies[app_model_bodies>1].index\n",
    "multi_body_app_models_ind = kmax_data['model_appraisal'].isin(multi_body_app_models)\n",
    "multi_body_pur_models = pur_model_bodies[pur_model_bodies>1].index\n",
    "multi_body_pur_models_ind = kmax_data['model'].isin(multi_body_pur_models)"
   ]
  },
  {
   "cell_type": "code",
   "execution_count": null,
   "metadata": {},
   "outputs": [],
   "source": [
    "sns.histplot(app_model_bodies)\n",
    "plt.xlabel(\"# Of Body Types\")\n",
    "plt.title(\"# Of Body Types per Model (Appraisals)\")"
   ]
  },
  {
   "cell_type": "code",
   "execution_count": null,
   "metadata": {},
   "outputs": [],
   "source": [
    "kmax_data[multi_body_app_models_ind].groupby([\"model_appraisal\",\"body_appraisal\"]).size().reset_index().rename(columns={0:'count'})"
   ]
  },
  {
   "cell_type": "code",
   "execution_count": null,
   "metadata": {},
   "outputs": [],
   "source": [
    "sns.histplot(pur_model_bodies)\n",
    "plt.xlabel(\"# Of Body Types\")\n",
    "plt.title(\"# Of Body Types per Model (Purchases)\")"
   ]
  },
  {
   "cell_type": "code",
   "execution_count": null,
   "metadata": {},
   "outputs": [],
   "source": [
    "kmax_data[multi_body_pur_models_ind].groupby([\"model\",\"body\"]).size().reset_index().rename(columns={0:'count'})"
   ]
  },
  {
   "cell_type": "code",
   "execution_count": null,
   "metadata": {},
   "outputs": [],
   "source": [
    "kmax_data['body_appraisal'].nunique()"
   ]
  }
 ],
 "metadata": {
  "kernelspec": {
   "display_name": "base",
   "language": "python",
   "name": "python3"
  },
  "language_info": {
   "codemirror_mode": {
    "name": "ipython",
    "version": 3
   },
   "file_extension": ".py",
   "mimetype": "text/x-python",
   "name": "python",
   "nbconvert_exporter": "python",
   "pygments_lexer": "ipython3",
   "version": "3.8.13"
  },
  "orig_nbformat": 4,
  "vscode": {
   "interpreter": {
    "hash": "ea8dfe8819248a0d19b4964441e8ab9aed80439a3b4fa8d1f0706e2cff97c61a"
   }
  }
 },
 "nbformat": 4,
 "nbformat_minor": 2
}
